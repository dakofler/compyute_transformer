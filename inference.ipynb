{
 "cells": [
  {
   "cell_type": "code",
   "execution_count": null,
   "metadata": {},
   "outputs": [],
   "source": [
    "import compyute as cp\n",
    "import compyute.nn.functional as F\n",
    "from simple_tokenizers import CharacterTokenizer"
   ]
  },
  {
   "cell_type": "code",
   "execution_count": null,
   "metadata": {},
   "outputs": [],
   "source": [
    "import requests\n",
    "\n",
    "DATA_URL = \"https://raw.githubusercontent.com/karpathy/char-rnn/master/data/tinyshakespeare/input.txt\"\n",
    "response = requests.get(DATA_URL)\n",
    "data = response.text\n",
    "\n",
    "chars = sorted(list(set(data)))\n",
    "tokenizer = CharacterTokenizer()\n",
    "tokenizer.vocab = {i: c for i, c in enumerate(chars)}\n",
    "tokenizer.ivocab = {c: i for i, c in enumerate(chars)}"
   ]
  },
  {
   "cell_type": "code",
   "execution_count": null,
   "metadata": {},
   "outputs": [],
   "source": [
    "vocab_size = tokenizer.vocab_size\n",
    "block_size = 256\n",
    "embed_dims = 384\n",
    "device = cp.cuda"
   ]
  },
  {
   "cell_type": "code",
   "execution_count": null,
   "metadata": {},
   "outputs": [],
   "source": [
    "from transformer.gpt import GPTTransformer\n",
    "from transformer.attention_utils import get_causal_mask\n",
    "\n",
    "mask = get_causal_mask(block_size)\n",
    "\n",
    "model = GPTTransformer(\n",
    "    n_embeds=vocab_size,\n",
    "    embed_dim=embed_dims,\n",
    "    mlp_channels=4 * embed_dims,\n",
    "    n_heads=6,\n",
    "    n_blocks=6,\n",
    "    max_context_len=block_size,\n",
    "    mask=mask,\n",
    ")"
   ]
  },
  {
   "cell_type": "code",
   "execution_count": null,
   "metadata": {},
   "outputs": [],
   "source": [
    "state_dict = cp.load(\"transformer_shakespeare_8_2500.cp\")\n",
    "model.load_state_dict(state_dict[\"model\"], target_device=device)"
   ]
  },
  {
   "cell_type": "code",
   "execution_count": null,
   "metadata": {},
   "outputs": [],
   "source": [
    "context = \"Hello, my name is\"\n",
    "print(context, end=\"\")\n",
    "context = tokenizer.encode(context)  # encode context\n",
    "context = cp.tensor(context, device, cp.int32).view((1, -1))  # insert batch dim\n",
    "\n",
    "for _ in range(500):\n",
    "    logits = model(context)[0, -1].to_cpu()  # get logits of last token\n",
    "    probs = F.softmax(logits)  # convert to probs\n",
    "    topk_probs, topk_indices = cp.topk(probs, 50)  # get top 50 probs\n",
    "    topk_probs /= topk_probs.sum()  # normalize probs\n",
    "    index = cp.random.multinomial(x=50, p=topk_probs, shape=(1,))  # sample\n",
    "    index = topk_indices[index]  # get token id\n",
    "    char = tokenizer.decode(index.to_list())\n",
    "    print(char, end=\"\")\n",
    "    index = index.view((1, 1)).to_device(device)\n",
    "    context = cp.append(context[:, 1:], values=index, dim=1).to_int()  # append to previous context"
   ]
  }
 ],
 "metadata": {
  "kernelspec": {
   "display_name": ".venv",
   "language": "python",
   "name": "python3"
  },
  "language_info": {
   "codemirror_mode": {
    "name": "ipython",
    "version": 3
   },
   "file_extension": ".py",
   "mimetype": "text/x-python",
   "name": "python",
   "nbconvert_exporter": "python",
   "pygments_lexer": "ipython3",
   "version": "3.12.8"
  }
 },
 "nbformat": 4,
 "nbformat_minor": 2
}
