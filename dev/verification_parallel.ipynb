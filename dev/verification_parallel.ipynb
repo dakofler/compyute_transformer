{
 "cells": [
  {
   "cell_type": "markdown",
   "metadata": {},
   "source": [
    "# MHA Parallel Implementaton Verification\n",
    "\n",
    "Comparison against Pytorch to verify the correct implementation"
   ]
  },
  {
   "cell_type": "code",
   "execution_count": 9,
   "metadata": {},
   "outputs": [],
   "source": [
    "import compyute as cp\n",
    "import numpy as np\n",
    "import torch\n",
    "\n",
    "cp.random.set_seed(42)\n",
    "tol = 1e-5 # stacking floating point errors due to lots of computation"
   ]
  },
  {
   "cell_type": "code",
   "execution_count": 10,
   "metadata": {},
   "outputs": [],
   "source": [
    "B, T, C, H = 16, 256, 384, 6\n",
    "x = cp.random.uniform((B, T, C), dtype=cp.float32)\n",
    "x_torch = torch.tensor(x.to_numpy(), requires_grad=True)"
   ]
  },
  {
   "cell_type": "code",
   "execution_count": 11,
   "metadata": {},
   "outputs": [],
   "source": [
    "from mha_parallel import ParallelMHA\n",
    "\n",
    "mha = ParallelMHA(in_channels=C, n_heads=H, bias=False)\n",
    "mha_torch = torch.nn.MultiheadAttention(C, H, bias=False, batch_first=True)\n",
    "\n",
    "mha_torch.in_proj_weight = torch.nn.Parameter(torch.tensor(mha.in_proj.w.to_numpy()))\n",
    "mha_torch.out_proj.weight = torch.nn.Parameter(torch.tensor(mha.out_proj.w.to_numpy()))\n",
    "\n",
    "# forward pass\n",
    "out = mha(x)\n",
    "out_torch, _ = mha_torch(x_torch, x_torch, x_torch, need_weights=False)\n",
    "\n",
    "# backward pass\n",
    "dy = cp.random.normal(out.shape)\n",
    "dx = mha.backward(dy)\n",
    "out_torch.backward(torch.tensor(dy.to_numpy()))"
   ]
  },
  {
   "cell_type": "markdown",
   "metadata": {},
   "source": [
    "Check if outputs match Pytorch"
   ]
  },
  {
   "cell_type": "code",
   "execution_count": 12,
   "metadata": {},
   "outputs": [
    {
     "data": {
      "text/plain": [
       "True"
      ]
     },
     "execution_count": 12,
     "metadata": {},
     "output_type": "execute_result"
    }
   ],
   "source": [
    "np.allclose(out.to_numpy(), out_torch.detach().numpy(), atol=tol, rtol=tol)"
   ]
  },
  {
   "cell_type": "markdown",
   "metadata": {},
   "source": [
    "Check if input gradients match Pytorch"
   ]
  },
  {
   "cell_type": "code",
   "execution_count": 13,
   "metadata": {},
   "outputs": [
    {
     "data": {
      "text/plain": [
       "True"
      ]
     },
     "execution_count": 13,
     "metadata": {},
     "output_type": "execute_result"
    }
   ],
   "source": [
    "np.allclose(dx.to_numpy(), x_torch.grad.detach().numpy(), atol=tol, rtol=tol)"
   ]
  },
  {
   "cell_type": "markdown",
   "metadata": {},
   "source": [
    "Check if input projection weight gradients match Pytorch"
   ]
  },
  {
   "cell_type": "code",
   "execution_count": 14,
   "metadata": {},
   "outputs": [
    {
     "data": {
      "text/plain": [
       "True"
      ]
     },
     "execution_count": 14,
     "metadata": {},
     "output_type": "execute_result"
    }
   ],
   "source": [
    "np.allclose(mha.in_proj.w.grad.to_numpy(), mha_torch.in_proj_weight.grad.detach().numpy(), atol=tol, rtol=tol)"
   ]
  },
  {
   "cell_type": "markdown",
   "metadata": {},
   "source": [
    "Check if output projection weight gradients match Pytorch"
   ]
  },
  {
   "cell_type": "code",
   "execution_count": 15,
   "metadata": {},
   "outputs": [
    {
     "data": {
      "text/plain": [
       "True"
      ]
     },
     "execution_count": 15,
     "metadata": {},
     "output_type": "execute_result"
    }
   ],
   "source": [
    "np.allclose(mha.out_proj.w.grad.to_numpy(), mha_torch.out_proj.weight.grad.detach().numpy(), atol=tol, rtol=tol)"
   ]
  }
 ],
 "metadata": {
  "kernelspec": {
   "display_name": "Python 3",
   "language": "python",
   "name": "python3"
  },
  "language_info": {
   "codemirror_mode": {
    "name": "ipython",
    "version": 3
   },
   "file_extension": ".py",
   "mimetype": "text/x-python",
   "name": "python",
   "nbconvert_exporter": "python",
   "pygments_lexer": "ipython3",
   "version": "3.12.8"
  },
  "orig_nbformat": 4
 },
 "nbformat": 4,
 "nbformat_minor": 2
}
